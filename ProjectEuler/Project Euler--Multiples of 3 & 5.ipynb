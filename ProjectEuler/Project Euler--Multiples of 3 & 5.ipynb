{
 "cells": [
  {
   "cell_type": "markdown",
   "metadata": {},
   "source": [
    "The following problem was derived from projectEuler.net\n",
    "# Multiple of 3 and 5:\n",
    "If we list all the natural numbers below 10 that are multiples of 3 or 5, we get 3, 5, 6 and 9. \n",
    "The sum of these multiples is 23.\n",
    "\n",
    "Find the sum of all the multiples of 3 or 5 below 1000"
   ]
  },
  {
   "cell_type": "markdown",
   "metadata": {},
   "source": [
    "Number Theory:\n",
    "$$\\sum\\limits_{k_1 = 1}^{333} {3k_1} + \\sum\\limits_{k_2 = 1}^{199} {5k_2} - \\sum\\limits_{k_3 = 1}^{66} {15k_3} = 166833+99500−33165=233168$$\n",
    "\n",
    "Using the Identity:\n",
    "$$\\sum\\limits_{k_1 = 1}^{n} {k_1 =\\frac{n(n+1)}{2}} $$"
   ]
  },
  {
   "cell_type": "code",
   "execution_count": 1,
   "metadata": {},
   "outputs": [],
   "source": [
    "#Function Definition\n",
    "def add_multiples(num):\n",
    "    total = 0\n",
    "    for multiple in range(num,1000,num):\n",
    "        total += multiple\n",
    "    return total"
   ]
  },
  {
   "cell_type": "code",
   "execution_count": 2,
   "metadata": {},
   "outputs": [
    {
     "name": "stdout",
     "output_type": "stream",
     "text": [
      "233168\n"
     ]
    }
   ],
   "source": [
    "result = add_multiples(3) + add_multiples(5) - add_multiples(15)\n",
    "print(result)"
   ]
  },
  {
   "cell_type": "code",
   "execution_count": null,
   "metadata": {},
   "outputs": [],
   "source": []
  }
 ],
 "metadata": {
  "kernelspec": {
   "display_name": "Python 3",
   "language": "python",
   "name": "python3"
  },
  "language_info": {
   "codemirror_mode": {
    "name": "ipython",
    "version": 3
   },
   "file_extension": ".py",
   "mimetype": "text/x-python",
   "name": "python",
   "nbconvert_exporter": "python",
   "pygments_lexer": "ipython3",
   "version": "3.7.1"
  }
 },
 "nbformat": 4,
 "nbformat_minor": 2
}
